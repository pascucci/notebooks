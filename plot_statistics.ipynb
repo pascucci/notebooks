{
 "cells": [
  {
   "cell_type": "code",
   "execution_count": 1,
   "id": "5692257e",
   "metadata": {},
   "outputs": [
    {
     "name": "stdout",
     "output_type": "stream",
     "text": [
      "Starting OpenVisus C:\\projects\\OpenVisus\\build\\RelWithDebInfo\\OpenVisus\\__init__.py 3.8.6 (tags/v3.8.6:db45529, Sep 23 2020, 15:52:53) [MSC v.1927 64 bit (AMD64)] sys.version_info(major=3, minor=8, micro=6, releaselevel='final', serial=0) ...\n"
     ]
    }
   ],
   "source": [
    "%matplotlib widget\n",
    "\n",
    "import random,threading,os,sys,asyncio\n",
    "from time import sleep\n",
    "import pandas as pd\n",
    "import numpy as np\n",
    "import ipympl\n",
    "from ipywidgets import interactive\n",
    "import matplotlib.pyplot as plt\n",
    "\n",
    "sys.path.append(r\"C:\\projects\\OpenVisus\\build\\RelWithDebInfo\")\n",
    "from OpenVisus import *"
   ]
  },
  {
   "cell_type": "code",
   "execution_count": 2,
   "id": "13c2ad8c",
   "metadata": {},
   "outputs": [],
   "source": [
    "db=LoadDataset('http://atlantis.sci.utah.edu/mod_visus?dataset=2kbit1')\n",
    "logic_box=db.getLogicBox()\n",
    "dims=[logic_box[1][I]-logic_box[0][I] for I in range(3)]\n",
    "\n",
    "def ReadSlice(db,axis,offset,quality):\n",
    "    if axis==0:\n",
    "        data=db.read(x=[offset,offset+1], quality=quality)\n",
    "        return data[:,:,0]\n",
    "    elif axis==1:\n",
    "        data=db.read(y=[offset,offset+1], quality=quality)\n",
    "        return data[:,0,:]\n",
    "    else:\n",
    "        data=db.read(z=[offset,offset+1], quality=quality)\n",
    "        return data[0,:,:]"
   ]
  },
  {
   "cell_type": "code",
   "execution_count": 3,
   "id": "4eeca3d6",
   "metadata": {},
   "outputs": [
    {
     "data": {
      "application/vnd.jupyter.widget-view+json": {
       "model_id": "750fe2731d6d4a09997130993289a360",
       "version_major": 2,
       "version_minor": 0
      },
      "text/plain": [
       "Canvas(toolbar=Toolbar(toolitems=[('Home', 'Reset original view', 'home', 'home'), ('Back', 'Back to previous …"
      ]
     },
     "metadata": {},
     "output_type": "display_data"
    }
   ],
   "source": [
    "%matplotlib widget\n",
    "\n",
    "class ShowStatistics:\n",
    "    \n",
    "    # constructor\n",
    "    def __init__(self,db,axis,quality):\n",
    "        self.db=db\n",
    "        self.axis=axis\n",
    "        self.quality=quality\n",
    "    \n",
    "        # create the figure\n",
    "        self.fig, self.axs = plt.subplots(2)\n",
    "        self.fig.show(self.fig)\n",
    "        \n",
    "    # runLoop\n",
    "    async def runLoop(self):\n",
    "        \n",
    "        logic_box=self.db.getLogicBox()\n",
    "        dims=[logic_box[1][I]-logic_box[0][I] for I in range(3)]\n",
    "        \n",
    "        # statistics\n",
    "        x=range(dims[self.axis])\n",
    "        y=[0]*dims[self.axis]         \n",
    "\n",
    "        last_data=None\n",
    "        for offset in range(dims[self.axis]): \n",
    "\n",
    "            try:\n",
    "                data=ReadSlice(self.db,self.axis,offset,self.quality)\n",
    "                last_data=data\n",
    "            except:\n",
    "                # it could be I don't have samples for that resolution\n",
    "                data=last_data\n",
    "\n",
    "            # apply threshold\n",
    "            data=(data>80)*255\n",
    "\n",
    "            # count non zero pixels\n",
    "            non_zeros=np.count_nonzero(data)\n",
    "            y[offset]=non_zeros\n",
    "\n",
    "            # refresh plot\n",
    "            self.axs[0].clear()\n",
    "            self.axs[1].clear()\n",
    "            self.axs[0].plot(x,y)\n",
    "            self.axs[1].imshow(data, origin='lower',cmap='gray')    \n",
    "            plt.draw()\n",
    "            await asyncio.sleep(0.01)\n",
    "           \n",
    "    # run\n",
    "    def run(self):\n",
    "        all_tasks = asyncio.all_tasks()\n",
    "        for task in all_tasks: task.cancel()\n",
    "        asyncio.create_task(self.runLoop());        \n",
    "        \n",
    "s=ShowStatistics(db,axis=0,quality=-15)\n",
    "s.run()\n"
   ]
  },
  {
   "cell_type": "code",
   "execution_count": null,
   "id": "0c403920",
   "metadata": {},
   "outputs": [],
   "source": []
  }
 ],
 "metadata": {
  "kernelspec": {
   "display_name": "Python 3",
   "language": "python",
   "name": "python3"
  },
  "language_info": {
   "codemirror_mode": {
    "name": "ipython",
    "version": 3
   },
   "file_extension": ".py",
   "mimetype": "text/x-python",
   "name": "python",
   "nbconvert_exporter": "python",
   "pygments_lexer": "ipython3",
   "version": "3.8.6"
  }
 },
 "nbformat": 4,
 "nbformat_minor": 5
}
